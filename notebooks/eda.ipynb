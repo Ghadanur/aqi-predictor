import pandas as pd

# Load CSVs
df_weather = pd.read_csv('./data/Data_Accv.csv')
df_aqi = pd.read_csv('./data/Open_Weather.csv')

# Convert timestamp to datetime format if not already
df_weather['Timestamp'] = pd.to_datetime(df_weather['Timestamp'])
df_aqi['Timestamp'] = pd.to_datetime(df_aqi['Timestamp'])

# Optional: Sort by timestamp if needed
df_weather.sort_values('Timestamp', inplace=True)
df_aqi.sort_values('Timestamp', inplace=True)

# Merge on 'Timestamp'
df_merged = pd.merge(df_weather, df_aqi, on='Timestamp', how='inner')

# Drop rows with missing or inconsistent values if needed
df_merged.dropna(inplace=True)

# Save to new CSV
df_merged.to_csv('./data/combined_data.csv', index=False)

print("Merged data saved to 'combined_data.csv'")
